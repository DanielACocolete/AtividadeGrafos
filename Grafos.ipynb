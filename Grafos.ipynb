{
  "nbformat": 4,
  "nbformat_minor": 0,
  "metadata": {
    "colab": {
      "provenance": [],
      "authorship_tag": "ABX9TyNs5HMUGUVc26VCQOfGRQyR",
      "include_colab_link": true
    },
    "kernelspec": {
      "name": "python3",
      "display_name": "Python 3"
    },
    "language_info": {
      "name": "python"
    }
  },
  "cells": [
    {
      "cell_type": "markdown",
      "metadata": {
        "id": "view-in-github",
        "colab_type": "text"
      },
      "source": [
        "<a href=\"https://colab.research.google.com/github/DanielACocolete/AtividadeGrafos/blob/main/Grafos.ipynb\" target=\"_parent\"><img src=\"https://colab.research.google.com/assets/colab-badge.svg\" alt=\"Open In Colab\"/></a>"
      ]
    },
    {
      "cell_type": "code",
      "execution_count": null,
      "metadata": {
        "id": "qsY_ytZRFm4N"
      },
      "outputs": [],
      "source": [
        "\n",
        "import networkx as nx\n",
        "import matplotlib.pyplot as plt"
      ]
    },
    {
      "cell_type": "code",
      "source": [
        "def criar_grafo_exemplo():\n",
        "    G = nx.Graph()\n",
        "\n",
        "    # Adiciona nós\n",
        "    G.add_nodes_from([\"A\", \"B\", \"C\", \"D\", \"E\"])\n",
        "\n",
        "    # Adiciona arestas\n",
        "    G.add_edges_from([(\"A\", \"B\"), (\"B\", \"C\"), (\"B\", \"D\"), (\"E\", \"A\"), (\"A\", \"D\"), (\"C\", \"F\"), (\"C\", \"G\")])\n",
        "\n",
        "    return G"
      ],
      "metadata": {
        "id": "iqhb0BifFptg"
      },
      "execution_count": null,
      "outputs": []
    },
    {
      "cell_type": "code",
      "source": [
        "def desenhar_grafo(grafo):\n",
        "    pos = nx.spring_layout(grafo)  # Define a posição dos nós\n",
        "    nx.draw(grafo, pos, with_labels=True, font_weight='bold', node_size=700, node_color='skyblue', font_size=10)\n",
        "    plt.show()"
      ],
      "metadata": {
        "id": "tizZBXYtFswE"
      },
      "execution_count": null,
      "outputs": []
    },
    {
      "cell_type": "code",
      "source": [
        "grafo_exemplo = criar_grafo_exemplo()"
      ],
      "metadata": {
        "id": "ErxOAefpFuqw"
      },
      "execution_count": null,
      "outputs": []
    },
    {
      "cell_type": "code",
      "source": [
        "desenhar_grafo(grafo_exemplo)"
      ],
      "metadata": {
        "colab": {
          "base_uri": "https://localhost:8080/",
          "height": 516
        },
        "id": "pIHZkN0aFvKO",
        "outputId": "a5392270-b820-4d2a-c666-553170928d31"
      },
      "execution_count": null,
      "outputs": [
        {
          "output_type": "display_data",
          "data": {
            "text/plain": [
              "<Figure size 640x480 with 1 Axes>"
            ],
            "image/png": "[encoded data removed]"
          },
          "metadata": {}
        }
      ]
    },
    {
      "cell_type": "code",
      "source": [
        "from collections import deque"
      ],
      "metadata": {
        "id": "h8oBORIqFz0j"
      },
      "execution_count": null,
      "outputs": []
    },
    {
      "cell_type": "code",
      "source": [
        "def busca_largura(grafo, inicio, objetivo):\n",
        "    fila = deque([(inicio, [inicio])])\n",
        "    print(str(fila))\n",
        "\n",
        "    while fila:\n",
        "        (vertice, caminho) = fila.popleft()\n",
        "        print(\"vertice: \" + str(vertice))\n",
        "        print(\"caminho: \" + str(caminho))\n",
        "        for vizinho in grafo[vertice]:\n",
        "            print(\"vizinho: \" + str(vizinho))\n",
        "            if vizinho not in caminho:\n",
        "                if vizinho == objetivo:\n",
        "                    return caminho + [vizinho]\n",
        "                else:\n",
        "                    fila.append((vizinho, caminho + [vizinho]))"
      ],
      "metadata": {
        "id": "vdl9C5nuF1VR"
      },
      "execution_count": null,
      "outputs": []
    },
    {
      "cell_type": "code",
      "source": [
        "fila = deque([('A', ['A'])])\n",
        "print(str(fila))\n",
        "(vertice, caminho) = fila.popleft()\n",
        "print(str((vertice, caminho)))"
      ],
      "metadata": {
        "colab": {
          "base_uri": "https://localhost:8080/"
        },
        "id": "s06gKj2AF3EX",
        "outputId": "7528432d-9b81-494e-a227-407d32c53ba2"
      },
      "execution_count": null,
      "outputs": [
        {
          "output_type": "stream",
          "name": "stdout",
          "text": [
            "deque([('A', ['A'])])\n",
            "('A', ['A'])\n"
          ]
        }
      ]
    },
    {
      "cell_type": "code",
      "source": [
        "grafo_exemplo = {\n",
        "    'A': ['B', 'D'],\n",
        "    'B': ['A', 'C', 'E'],\n",
        "    'C': ['A', 'E', 'G'],\n",
        "    'D': ['B'],\n",
        "    'E': ['F', 'H'],\n",
        "    'F': ['C'],\n",
        "    'G': ['C'],\n",
        "    'H': ['D']\n",
        "}"
      ],
      "metadata": {
        "id": "Vl3BRJ35F6kN"
      },
      "execution_count": null,
      "outputs": []
    },
    {
      "cell_type": "code",
      "source": [
        "resultado = busca_largura(grafo_exemplo, 'A', 'H')\n",
        "print(\"Caminho mais curto:\", resultado)"
      ],
      "metadata": {
        "colab": {
          "base_uri": "https://localhost:8080/"
        },
        "id": "el-3jmz0F8vR",
        "outputId": "db3575a3-1071-47dc-e474-0aec35ec2d51"
      },
      "execution_count": null,
      "outputs": [
        {
          "output_type": "stream",
          "name": "stdout",
          "text": [
            "deque([('A', ['A'])])\n",
            "vertice: A\n",
            "caminho: ['A']\n",
            "vizinho: B\n",
            "vizinho: D\n",
            "vertice: B\n",
            "caminho: ['A', 'B']\n",
            "vizinho: A\n",
            "vizinho: C\n",
            "vizinho: E\n",
            "vertice: D\n",
            "caminho: ['A', 'D']\n",
            "vizinho: B\n",
            "vertice: C\n",
            "caminho: ['A', 'B', 'C']\n",
            "vizinho: A\n",
            "vizinho: E\n",
            "vizinho: G\n",
            "vertice: E\n",
            "caminho: ['A', 'B', 'E']\n",
            "vizinho: F\n",
            "vizinho: H\n",
            "Caminho mais curto: ['A', 'B', 'E', 'H']\n"
          ]
        }
      ]
    }
  ]
}